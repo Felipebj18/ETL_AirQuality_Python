{
 "cells": [
  {
   "cell_type": "code",
   "execution_count": 1,
   "metadata": {},
   "outputs": [],
   "source": [
    "import pandas as pd\n",
    "import numpy as np\n",
    "import matplotlib.pyplot as plt"
   ]
  },
  {
   "cell_type": "code",
   "execution_count": 2,
   "metadata": {},
   "outputs": [],
   "source": [
    "aq=pd.read_hdf(\"air_quality_data.h5\",key ='data')"
   ]
  },
  {
   "cell_type": "code",
   "execution_count": 7,
   "metadata": {},
   "outputs": [
    {
     "name": "stderr",
     "output_type": "stream",
     "text": [
      "c:\\Users\\FELIPE.LAPTOP-20LUI4GA\\anaconda3\\lib\\site-packages\\pandas\\core\\indexing.py:1667: SettingWithCopyWarning: \n",
      "A value is trying to be set on a copy of a slice from a DataFrame.\n",
      "Try using .loc[row_indexer,col_indexer] = value instead\n",
      "\n",
      "See the caveats in the documentation: https://pandas.pydata.org/pandas-docs/stable/user_guide/indexing.html#returning-a-view-versus-a-copy\n",
      "  self.obj[key] = value\n"
     ]
    }
   ],
   "source": [
    "from data_transformation import obtener_registros_por_hora\n",
    "from scipy.interpolate import griddata\n",
    "def generate_interpolations(dataframe):\n",
    "    fecha_hora_unicas = dataframe['fecha'].unique()\n",
    "    interpolations = []\n",
    "\n",
    "    for date_time in fecha_hora_unicas:\n",
    "        df_hora = obtener_registros_por_hora(dataframe, date_time)\n",
    "\n",
    "        lat = df_hora['latitud']\n",
    "        lon = df_hora['longitud']\n",
    "        aqi = df_hora['aqi']\n",
    "\n",
    "        longitud_grid = np.linspace(lon.min(), lon.max(), 100)\n",
    "        latitud_grid = np.linspace(lat.min(), lat.max(), 100)\n",
    "        longitud_mesh, latitud_mesh = np.meshgrid(longitud_grid, latitud_grid)\n",
    "\n",
    "        grid_interpolado_cubico = griddata((lon, lat), aqi, (longitud_mesh, latitud_mesh), method='cubic')\n",
    "        puntos_faltantes = np.isnan(grid_interpolado_cubico)\n",
    "        grid_interpolado_vecinos = griddata((lon, lat), aqi, (longitud_mesh, latitud_mesh), method='nearest')\n",
    "        grid_interpolado_combinado = np.where(puntos_faltantes, grid_interpolado_vecinos, grid_interpolado_cubico)\n",
    "\n",
    "        interpolations.append(grid_interpolado_combinado)\n",
    "\n",
    "    return interpolations\n"
   ]
  },
  {
   "cell_type": "code",
   "execution_count": 8,
   "metadata": {},
   "outputs": [],
   "source": [
    "interpolations = generate_interpolations(aq)"
   ]
  },
  {
   "cell_type": "code",
   "execution_count": 28,
   "metadata": {},
   "outputs": [
    {
     "data": {
      "text/plain": [
       "135.74986432160804"
      ]
     },
     "execution_count": 28,
     "metadata": {},
     "output_type": "execute_result"
    }
   ],
   "source": [
    "primera_interpolacion = interpolations[0]\n",
    "\n",
    "# Grafica la interpolación\n",
    "plt.figure(figsize=(12, 8))\n",
    "longitud_mesh, latitud_mesh = np.meshgrid(longitud_grid, latitud_grid)\n",
    "plt.contourf(latitud_mesh, longitud_mesh, primera_interpolacion, cmap='YlOrRd')\n",
    "plt.xlabel('Latitud')\n",
    "plt.ylabel('Longitud')\n",
    "plt.title('Interpolación del Primer Elemento de la Lista')\n",
    "plt.colorbar(label='AQI')\n",
    "plt.show()\n"
   ]
  },
  {
   "cell_type": "code",
   "execution_count": 14,
   "metadata": {},
   "outputs": [],
   "source": [
    "import pandas as pd\n",
    "import numpy as np\n",
    "from scipy.interpolate import griddata\n",
    "from data_transformation import obtener_registros_por_hora\n",
    "\n",
    "def generate_interpolation_dataframe(dataframe):\n",
    "    fecha_hora_unicas = dataframe['fecha'].unique()\n",
    "    interpolations = []\n",
    "\n",
    "    for date_time in fecha_hora_unicas:\n",
    "        df_hora = obtener_registros_por_hora(dataframe, date_time)\n",
    "\n",
    "        lat = df_hora['latitud']\n",
    "        lon = df_hora['longitud']\n",
    "        aqi = df_hora['aqi']\n",
    "\n",
    "        longitud_grid = np.linspace(lon.min(), lon.max(), 100)\n",
    "        latitud_grid = np.linspace(lat.min(), lat.max(), 100)\n",
    "        longitud_mesh, latitud_mesh = np.meshgrid(longitud_grid, latitud_grid)\n",
    "\n",
    "        grid_interpolado_cubico = griddata((lon, lat), aqi, (longitud_mesh, latitud_mesh), method='cubic')\n",
    "        puntos_faltantes = np.isnan(grid_interpolado_cubico)\n",
    "        grid_interpolado_vecinos = griddata((lon, lat), aqi, (longitud_mesh, latitud_mesh), method='nearest')\n",
    "        grid_interpolado_combinado = np.where(puntos_faltantes, grid_interpolado_vecinos, grid_interpolado_cubico)\n",
    "\n",
    "        interpolations.append(grid_interpolado_combinado)\n",
    "\n",
    "    interpolation_df = pd.DataFrame({\n",
    "        \"fecha\": fecha_hora_unicas,\n",
    "        \"interpolacion\": interpolations\n",
    "    })\n",
    "\n",
    "    return interpolation_df\n"
   ]
  },
  {
   "cell_type": "code",
   "execution_count": 29,
   "metadata": {},
   "outputs": [],
   "source": [
    "interpolations_df=generate_interpolation_dataframe(aq)"
   ]
  },
  {
   "cell_type": "code",
   "execution_count": 33,
   "metadata": {},
   "outputs": [
    {
     "data": {
      "text/html": [
       "<div>\n",
       "<style scoped>\n",
       "    .dataframe tbody tr th:only-of-type {\n",
       "        vertical-align: middle;\n",
       "    }\n",
       "\n",
       "    .dataframe tbody tr th {\n",
       "        vertical-align: top;\n",
       "    }\n",
       "\n",
       "    .dataframe thead th {\n",
       "        text-align: right;\n",
       "    }\n",
       "</style>\n",
       "<table border=\"1\" class=\"dataframe\">\n",
       "  <thead>\n",
       "    <tr style=\"text-align: right;\">\n",
       "      <th></th>\n",
       "      <th>fecha</th>\n",
       "      <th>interpolacion</th>\n",
       "    </tr>\n",
       "  </thead>\n",
       "  <tbody>\n",
       "    <tr>\n",
       "      <th>0</th>\n",
       "      <td>2019-02-21 04:00:00</td>\n",
       "      <td>[[135.74986432160804, 135.74986432160804, 135....</td>\n",
       "    </tr>\n",
       "    <tr>\n",
       "      <th>1</th>\n",
       "      <td>2019-02-21 05:00:00</td>\n",
       "      <td>[[152.92845205479452, 152.92845205479452, 152....</td>\n",
       "    </tr>\n",
       "    <tr>\n",
       "      <th>2</th>\n",
       "      <td>2019-02-21 06:00:00</td>\n",
       "      <td>[[120.63176381909548, 120.63176381909548, 120....</td>\n",
       "    </tr>\n",
       "    <tr>\n",
       "      <th>3</th>\n",
       "      <td>2019-02-21 07:00:00</td>\n",
       "      <td>[[138.28087437185928, 138.28087437185928, 138....</td>\n",
       "    </tr>\n",
       "    <tr>\n",
       "      <th>4</th>\n",
       "      <td>2019-02-21 08:00:00</td>\n",
       "      <td>[[132.7123567839196, 132.7123567839196, 132.71...</td>\n",
       "    </tr>\n",
       "    <tr>\n",
       "      <th>...</th>\n",
       "      <td>...</td>\n",
       "      <td>...</td>\n",
       "    </tr>\n",
       "    <tr>\n",
       "      <th>8756</th>\n",
       "      <td>2019-11-26 14:00:00</td>\n",
       "      <td>[[47.96875, 47.96875, 47.96875, 47.96875, 47.9...</td>\n",
       "    </tr>\n",
       "    <tr>\n",
       "      <th>8757</th>\n",
       "      <td>2019-07-01 23:00:00</td>\n",
       "      <td>[[40.33675, 40.33675, 40.33675, 40.33675, 40.3...</td>\n",
       "    </tr>\n",
       "    <tr>\n",
       "      <th>8758</th>\n",
       "      <td>2019-11-16 08:00:00</td>\n",
       "      <td>[[95.81228755364808, 95.81228755364808, 95.812...</td>\n",
       "    </tr>\n",
       "    <tr>\n",
       "      <th>8759</th>\n",
       "      <td>2019-11-16 09:00:00</td>\n",
       "      <td>[[102.81103015075378, 102.81103015075378, 102....</td>\n",
       "    </tr>\n",
       "    <tr>\n",
       "      <th>8760</th>\n",
       "      <td>2019-11-16 10:00:00</td>\n",
       "      <td>[[36.25058333333333, 36.25058333333333, 36.250...</td>\n",
       "    </tr>\n",
       "  </tbody>\n",
       "</table>\n",
       "<p>8761 rows × 2 columns</p>\n",
       "</div>"
      ],
      "text/plain": [
       "                   fecha                                      interpolacion\n",
       "0    2019-02-21 04:00:00  [[135.74986432160804, 135.74986432160804, 135....\n",
       "1    2019-02-21 05:00:00  [[152.92845205479452, 152.92845205479452, 152....\n",
       "2    2019-02-21 06:00:00  [[120.63176381909548, 120.63176381909548, 120....\n",
       "3    2019-02-21 07:00:00  [[138.28087437185928, 138.28087437185928, 138....\n",
       "4    2019-02-21 08:00:00  [[132.7123567839196, 132.7123567839196, 132.71...\n",
       "...                  ...                                                ...\n",
       "8756 2019-11-26 14:00:00  [[47.96875, 47.96875, 47.96875, 47.96875, 47.9...\n",
       "8757 2019-07-01 23:00:00  [[40.33675, 40.33675, 40.33675, 40.33675, 40.3...\n",
       "8758 2019-11-16 08:00:00  [[95.81228755364808, 95.81228755364808, 95.812...\n",
       "8759 2019-11-16 09:00:00  [[102.81103015075378, 102.81103015075378, 102....\n",
       "8760 2019-11-16 10:00:00  [[36.25058333333333, 36.25058333333333, 36.250...\n",
       "\n",
       "[8761 rows x 2 columns]"
      ]
     },
     "execution_count": 33,
     "metadata": {},
     "output_type": "execute_result"
    }
   ],
   "source": [
    "interpolations_df"
   ]
  },
  {
   "cell_type": "code",
   "execution_count": 34,
   "metadata": {},
   "outputs": [],
   "source": [
    "import pandas as pd\n",
    "import numpy as np\n",
    "from scipy.interpolate import griddata\n",
    "\n",
    "def generate_daily_interpolation_average_dataframe(dataframe):\n",
    "    # Crear una lista para almacenar los datos de salida\n",
    "    daily_averages = []\n",
    "\n",
    "    # Obtener la lista única de fechas\n",
    "    unique_dates = dataframe['fecha'].dt.date.unique()\n",
    "\n",
    "    for date in unique_dates:\n",
    "        # Filtrar el DataFrame por fecha\n",
    "        daily_data = dataframe[dataframe['fecha'].dt.date == date]\n",
    "\n",
    "        # Coordenadas de latitud y longitud\n",
    "        latitudes = daily_data['latitud']\n",
    "        longitudes = daily_data['longitud']\n",
    "\n",
    "        # AQI para el día\n",
    "        aqi = daily_data['aqi']\n",
    "\n",
    "        # Crear una cuadrícula de coordenadas\n",
    "        lat_grid = np.linspace(latitudes.min(), latitudes.max(), 100)\n",
    "        lon_grid = np.linspace(longitudes.min(), longitudes.max(), 100)\n",
    "        lat_mesh, lon_mesh = np.meshgrid(lat_grid, lon_grid)\n",
    "\n",
    "        # Interpolación cúbica\n",
    "        interpolated_values = griddata((latitudes, longitudes), aqi, (lat_mesh, lon_mesh), method='cubic')\n",
    "\n",
    "        # Calcular el promedio de la interpolación para el día\n",
    "        daily_average = interpolated_values.mean()\n",
    "\n",
    "        # Almacenar la fecha y el promedio en la lista de resultados\n",
    "        daily_averages.append([date, daily_average])\n",
    "\n",
    "    # Crear un DataFrame a partir de la lista de resultados\n",
    "    daily_average_df = pd.DataFrame(daily_averages, columns=['fecha', 'promedio_interpolacion'])\n",
    "\n",
    "    return daily_average_df\n",
    "\n",
    "# Ejemplo de uso:\n",
    "# df_daily_averages = generate_daily_interpolation_average_dataframe(air_quality_data)\n"
   ]
  },
  {
   "cell_type": "code",
   "execution_count": null,
   "metadata": {},
   "outputs": [],
   "source": [
    "df_daily_averages = generate_daily_interpolation_average_dataframe(aq)"
   ]
  },
  {
   "cell_type": "code",
   "execution_count": null,
   "metadata": {},
   "outputs": [],
   "source": [
    "filtro = aq['aqi'] > 100.0\n",
    "aq_bad = aq[filtro]"
   ]
  }
 ],
 "metadata": {
  "kernelspec": {
   "display_name": "base",
   "language": "python",
   "name": "python3"
  },
  "language_info": {
   "codemirror_mode": {
    "name": "ipython",
    "version": 3
   },
   "file_extension": ".py",
   "mimetype": "text/x-python",
   "name": "python",
   "nbconvert_exporter": "python",
   "pygments_lexer": "ipython3",
   "version": "3.9.7"
  }
 },
 "nbformat": 4,
 "nbformat_minor": 2
}
